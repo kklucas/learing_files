{
 "cells": [
  {
   "cell_type": "code",
   "execution_count": 1,
   "metadata": {
    "collapsed": true
   },
   "outputs": [],
   "source": [
    "import pandas as pd\n",
    "import numpy as np\n",
    "import matplotlib.pyplot as plt\n",
    "import seaborn as sns"
   ]
  },
  {
   "cell_type": "code",
   "execution_count": 2,
   "metadata": {
    "collapsed": true
   },
   "outputs": [],
   "source": [
    "test_df=pd.read_csv(r'D:\\Python\\Price Forecast\\test.csv')"
   ]
  },
  {
   "cell_type": "code",
   "execution_count": 3,
   "metadata": {
    "collapsed": true
   },
   "outputs": [],
   "source": [
    "train_df=pd.read_csv(r'D:\\Python\\Price Forecast\\train.csv')"
   ]
  },
  {
   "cell_type": "code",
   "execution_count": 4,
   "metadata": {},
   "outputs": [
    {
     "data": {
      "text/html": [
       "<div>\n",
       "<style>\n",
       "    .dataframe thead tr:only-child th {\n",
       "        text-align: right;\n",
       "    }\n",
       "\n",
       "    .dataframe thead th {\n",
       "        text-align: left;\n",
       "    }\n",
       "\n",
       "    .dataframe tbody tr th {\n",
       "        vertical-align: top;\n",
       "    }\n",
       "</style>\n",
       "<table border=\"1\" class=\"dataframe\">\n",
       "  <thead>\n",
       "    <tr style=\"text-align: right;\">\n",
       "      <th></th>\n",
       "      <th>Id</th>\n",
       "      <th>MSSubClass</th>\n",
       "      <th>MSZoning</th>\n",
       "      <th>LotFrontage</th>\n",
       "      <th>LotArea</th>\n",
       "      <th>Street</th>\n",
       "      <th>Alley</th>\n",
       "      <th>LotShape</th>\n",
       "      <th>LandContour</th>\n",
       "      <th>Utilities</th>\n",
       "      <th>...</th>\n",
       "      <th>PoolArea</th>\n",
       "      <th>PoolQC</th>\n",
       "      <th>Fence</th>\n",
       "      <th>MiscFeature</th>\n",
       "      <th>MiscVal</th>\n",
       "      <th>MoSold</th>\n",
       "      <th>YrSold</th>\n",
       "      <th>SaleType</th>\n",
       "      <th>SaleCondition</th>\n",
       "      <th>SalePrice</th>\n",
       "    </tr>\n",
       "  </thead>\n",
       "  <tbody>\n",
       "    <tr>\n",
       "      <th>0</th>\n",
       "      <td>1</td>\n",
       "      <td>60</td>\n",
       "      <td>RL</td>\n",
       "      <td>65.0</td>\n",
       "      <td>8450</td>\n",
       "      <td>Pave</td>\n",
       "      <td>NaN</td>\n",
       "      <td>Reg</td>\n",
       "      <td>Lvl</td>\n",
       "      <td>AllPub</td>\n",
       "      <td>...</td>\n",
       "      <td>0</td>\n",
       "      <td>NaN</td>\n",
       "      <td>NaN</td>\n",
       "      <td>NaN</td>\n",
       "      <td>0</td>\n",
       "      <td>2</td>\n",
       "      <td>2008</td>\n",
       "      <td>WD</td>\n",
       "      <td>Normal</td>\n",
       "      <td>208500</td>\n",
       "    </tr>\n",
       "    <tr>\n",
       "      <th>1</th>\n",
       "      <td>2</td>\n",
       "      <td>20</td>\n",
       "      <td>RL</td>\n",
       "      <td>80.0</td>\n",
       "      <td>9600</td>\n",
       "      <td>Pave</td>\n",
       "      <td>NaN</td>\n",
       "      <td>Reg</td>\n",
       "      <td>Lvl</td>\n",
       "      <td>AllPub</td>\n",
       "      <td>...</td>\n",
       "      <td>0</td>\n",
       "      <td>NaN</td>\n",
       "      <td>NaN</td>\n",
       "      <td>NaN</td>\n",
       "      <td>0</td>\n",
       "      <td>5</td>\n",
       "      <td>2007</td>\n",
       "      <td>WD</td>\n",
       "      <td>Normal</td>\n",
       "      <td>181500</td>\n",
       "    </tr>\n",
       "    <tr>\n",
       "      <th>2</th>\n",
       "      <td>3</td>\n",
       "      <td>60</td>\n",
       "      <td>RL</td>\n",
       "      <td>68.0</td>\n",
       "      <td>11250</td>\n",
       "      <td>Pave</td>\n",
       "      <td>NaN</td>\n",
       "      <td>IR1</td>\n",
       "      <td>Lvl</td>\n",
       "      <td>AllPub</td>\n",
       "      <td>...</td>\n",
       "      <td>0</td>\n",
       "      <td>NaN</td>\n",
       "      <td>NaN</td>\n",
       "      <td>NaN</td>\n",
       "      <td>0</td>\n",
       "      <td>9</td>\n",
       "      <td>2008</td>\n",
       "      <td>WD</td>\n",
       "      <td>Normal</td>\n",
       "      <td>223500</td>\n",
       "    </tr>\n",
       "    <tr>\n",
       "      <th>3</th>\n",
       "      <td>4</td>\n",
       "      <td>70</td>\n",
       "      <td>RL</td>\n",
       "      <td>60.0</td>\n",
       "      <td>9550</td>\n",
       "      <td>Pave</td>\n",
       "      <td>NaN</td>\n",
       "      <td>IR1</td>\n",
       "      <td>Lvl</td>\n",
       "      <td>AllPub</td>\n",
       "      <td>...</td>\n",
       "      <td>0</td>\n",
       "      <td>NaN</td>\n",
       "      <td>NaN</td>\n",
       "      <td>NaN</td>\n",
       "      <td>0</td>\n",
       "      <td>2</td>\n",
       "      <td>2006</td>\n",
       "      <td>WD</td>\n",
       "      <td>Abnorml</td>\n",
       "      <td>140000</td>\n",
       "    </tr>\n",
       "    <tr>\n",
       "      <th>4</th>\n",
       "      <td>5</td>\n",
       "      <td>60</td>\n",
       "      <td>RL</td>\n",
       "      <td>84.0</td>\n",
       "      <td>14260</td>\n",
       "      <td>Pave</td>\n",
       "      <td>NaN</td>\n",
       "      <td>IR1</td>\n",
       "      <td>Lvl</td>\n",
       "      <td>AllPub</td>\n",
       "      <td>...</td>\n",
       "      <td>0</td>\n",
       "      <td>NaN</td>\n",
       "      <td>NaN</td>\n",
       "      <td>NaN</td>\n",
       "      <td>0</td>\n",
       "      <td>12</td>\n",
       "      <td>2008</td>\n",
       "      <td>WD</td>\n",
       "      <td>Normal</td>\n",
       "      <td>250000</td>\n",
       "    </tr>\n",
       "  </tbody>\n",
       "</table>\n",
       "<p>5 rows × 81 columns</p>\n",
       "</div>"
      ],
      "text/plain": [
       "   Id  MSSubClass MSZoning  LotFrontage  LotArea Street Alley LotShape  \\\n",
       "0   1          60       RL         65.0     8450   Pave   NaN      Reg   \n",
       "1   2          20       RL         80.0     9600   Pave   NaN      Reg   \n",
       "2   3          60       RL         68.0    11250   Pave   NaN      IR1   \n",
       "3   4          70       RL         60.0     9550   Pave   NaN      IR1   \n",
       "4   5          60       RL         84.0    14260   Pave   NaN      IR1   \n",
       "\n",
       "  LandContour Utilities    ...     PoolArea PoolQC Fence MiscFeature MiscVal  \\\n",
       "0         Lvl    AllPub    ...            0    NaN   NaN         NaN       0   \n",
       "1         Lvl    AllPub    ...            0    NaN   NaN         NaN       0   \n",
       "2         Lvl    AllPub    ...            0    NaN   NaN         NaN       0   \n",
       "3         Lvl    AllPub    ...            0    NaN   NaN         NaN       0   \n",
       "4         Lvl    AllPub    ...            0    NaN   NaN         NaN       0   \n",
       "\n",
       "  MoSold YrSold  SaleType  SaleCondition  SalePrice  \n",
       "0      2   2008        WD         Normal     208500  \n",
       "1      5   2007        WD         Normal     181500  \n",
       "2      9   2008        WD         Normal     223500  \n",
       "3      2   2006        WD        Abnorml     140000  \n",
       "4     12   2008        WD         Normal     250000  \n",
       "\n",
       "[5 rows x 81 columns]"
      ]
     },
     "execution_count": 4,
     "metadata": {},
     "output_type": "execute_result"
    }
   ],
   "source": [
    "train_df.head()"
   ]
  },
  {
   "cell_type": "code",
   "execution_count": 5,
   "metadata": {},
   "outputs": [
    {
     "data": {
      "text/plain": [
       "(1460, 81)"
      ]
     },
     "execution_count": 5,
     "metadata": {},
     "output_type": "execute_result"
    }
   ],
   "source": [
    "train_df.shape"
   ]
  },
  {
   "cell_type": "code",
   "execution_count": 6,
   "metadata": {},
   "outputs": [
    {
     "data": {
      "text/plain": [
       "(1459, 80)"
      ]
     },
     "execution_count": 6,
     "metadata": {},
     "output_type": "execute_result"
    }
   ],
   "source": [
    "test_df.shape"
   ]
  },
  {
   "cell_type": "code",
   "execution_count": 7,
   "metadata": {},
   "outputs": [
    {
     "name": "stdout",
     "output_type": "stream",
     "text": [
      "MSSubClass: Identifies the type of dwelling involved in the sale.\t\n",
      "\n",
      "\n",
      "\n",
      "        20\t1-STORY 1946 & NEWER ALL STYLES\n",
      "\n",
      "        30\t1-STORY 1945 & OLDER\n",
      "\n",
      "        40\t1-STORY W/FINISHED ATTIC ALL AGES\n",
      "\n",
      "        45\t1-1/2 STORY - UNFINISHED ALL AGES\n",
      "\n",
      "        50\t1-1/2 STORY FINISHED ALL AGES\n",
      "\n",
      "        60\t2-STORY 1946 & NEWER\n",
      "\n",
      "        70\t2-STORY 1945 & OLDER\n",
      "\n",
      "        75\t2-1/2 STORY ALL AGES\n",
      "\n",
      "        80\tSPLIT OR MULTI-LEVEL\n",
      "\n",
      "        85\tSPLIT FOYER\n",
      "\n",
      "        90\tDUPLEX - ALL STYLES AND AGES\n",
      "\n",
      "       120\t1-STORY PUD (Planned Unit Development) - 1946 & NEWER\n",
      "\n",
      "       150\t1-1/2 STORY PUD - ALL AGES\n",
      "\n",
      "       160\t2-STORY PUD - 1946 & NEWER\n",
      "\n",
      "       180\tPUD - MULTILEVEL - INCL SPLIT LEV/FOYER\n",
      "\n",
      "       190\t2 FAMILY CONVERSION - ALL STYLES AND AGES\n",
      "\n",
      "\n",
      "\n",
      "MSZoning: Identifies the general zoning classification of the sale.\n",
      "\n",
      "\t\t\n",
      "\n",
      "       A\tAgriculture\n",
      "\n",
      "       C\tCommercial\n",
      "\n",
      "       FV\tFloating Village Residential\n",
      "\n",
      "       I\tIndustrial\n",
      "\n",
      "       RH\tResidential High Density\n",
      "\n",
      "       RL\tResidential Low Density\n",
      "\n",
      "       RP\tResidential Low Density Park \n",
      "\n",
      "       RM\tResidential Medium Density\n",
      "\n",
      "\t\n",
      "\n",
      "LotFrontage: Linear feet of street connected to property\n",
      "\n",
      "\n",
      "\n",
      "LotArea: Lot size in square feet\n",
      "\n",
      "\n",
      "\n",
      "Street: Type of road access to property\n",
      "\n",
      "\n",
      "\n",
      "       Grvl\tGravel\t\n",
      "\n",
      "       Pave\tPaved\n",
      "\n",
      "       \t\n",
      "\n",
      "Alley: Type of alley access to property\n",
      "\n",
      "\n",
      "\n",
      "       Grvl\tGravel\n",
      "\n",
      "       Pave\tPaved\n",
      "\n",
      "       NA \tNo alley access\n",
      "\n",
      "\t\t\n",
      "\n",
      "LotShape: General shape of property\n",
      "\n",
      "\n",
      "\n",
      "       Reg\tRegular\t\n",
      "\n",
      "       IR1\tSlightly irregular\n",
      "\n",
      "       IR2\tModerately Irregular\n",
      "\n",
      "       IR3\tIrregular\n",
      "\n",
      "       \n",
      "\n",
      "LandContour: Flatness of the property\n",
      "\n",
      "\n",
      "\n",
      "       Lvl\tNear Flat/Level\t\n",
      "\n",
      "       Bnk\tBanked - Quick and significant rise from street grade to building\n",
      "\n",
      "       HLS\tHillside - Significant slope from side to side\n",
      "\n",
      "       Low\tDepression\n",
      "\n",
      "\t\t\n",
      "\n",
      "Utilities: Type of utilities available\n",
      "\n",
      "\t\t\n",
      "\n",
      "       AllPub\tAll public Utilities (E,G,W,& S)\t\n",
      "\n",
      "       NoSewr\tElectricity, Gas, and Water (Septic Tank)\n",
      "\n",
      "       NoSeWa\tElectricity and Gas Only\n",
      "\n",
      "       ELO\tElectricity only\t\n",
      "\n",
      "\t\n",
      "\n",
      "LotConfig: Lot configuration\n",
      "\n",
      "\n",
      "\n",
      "       Inside\tInside lot\n",
      "\n",
      "       Corner\tCorner lot\n",
      "\n",
      "       CulDSac\tCul-de-sac\n",
      "\n",
      "       FR2\tFrontage on 2 sides of property\n",
      "\n",
      "       FR3\tFrontage on 3 sides of property\n",
      "\n",
      "\t\n",
      "\n",
      "LandSlope: Slope of property\n",
      "\n",
      "\t\t\n",
      "\n",
      "       Gtl\tGentle slope\n",
      "\n",
      "       Mod\tModerate Slope\t\n",
      "\n",
      "       Sev\tSevere Slope\n",
      "\n",
      "\t\n",
      "\n",
      "Neighborhood: Physical locations within Ames city limits\n",
      "\n",
      "\n",
      "\n",
      "       Blmngtn\tBloomington Heights\n",
      "\n",
      "       Blueste\tBluestem\n",
      "\n",
      "       BrDale\tBriardale\n",
      "\n",
      "       BrkSide\tBrookside\n",
      "\n",
      "       ClearCr\tClear Creek\n",
      "\n",
      "       CollgCr\tCollege Creek\n",
      "\n",
      "       Crawfor\tCrawford\n",
      "\n",
      "       Edwards\tEdwards\n",
      "\n",
      "       Gilbert\tGilbert\n",
      "\n",
      "       IDOTRR\tIowa DOT and Rail Road\n",
      "\n",
      "       MeadowV\tMeadow Village\n",
      "\n",
      "       Mitchel\tMitchell\n",
      "\n",
      "       Names\tNorth Ames\n",
      "\n",
      "       NoRidge\tNorthridge\n",
      "\n",
      "       NPkVill\tNorthpark Villa\n",
      "\n",
      "       NridgHt\tNorthridge Heights\n",
      "\n",
      "       NWAmes\tNorthwest Ames\n",
      "\n",
      "       OldTown\tOld Town\n",
      "\n",
      "       SWISU\tSouth & West of Iowa State University\n",
      "\n",
      "       Sawyer\tSawyer\n",
      "\n",
      "       SawyerW\tSawyer West\n",
      "\n",
      "       Somerst\tSomerset\n",
      "\n",
      "       StoneBr\tStone Brook\n",
      "\n",
      "       Timber\tTimberland\n",
      "\n",
      "       Veenker\tVeenker\n",
      "\n",
      "\t\t\t\n",
      "\n",
      "Condition1: Proximity to various conditions\n",
      "\n",
      "\t\n",
      "\n",
      "       Artery\tAdjacent to arterial street\n",
      "\n",
      "       Feedr\tAdjacent to feeder street\t\n",
      "\n",
      "       Norm\tNormal\t\n",
      "\n",
      "       RRNn\tWithin 200' of North-South Railroad\n",
      "\n",
      "       RRAn\tAdjacent to North-South Railroad\n",
      "\n",
      "       PosN\tNear positive off-site feature--park, greenbelt, etc.\n",
      "\n",
      "       PosA\tAdjacent to postive off-site feature\n",
      "\n",
      "       RRNe\tWithin 200' of East-West Railroad\n",
      "\n",
      "       RRAe\tAdjacent to East-West Railroad\n",
      "\n",
      "\t\n",
      "\n",
      "Condition2: Proximity to various conditions (if more than one is present)\n",
      "\n",
      "\t\t\n",
      "\n",
      "       Artery\tAdjacent to arterial street\n",
      "\n",
      "       Feedr\tAdjacent to feeder street\t\n",
      "\n",
      "       Norm\tNormal\t\n",
      "\n",
      "       RRNn\tWithin 200' of North-South Railroad\n",
      "\n",
      "       RRAn\tAdjacent to North-South Railroad\n",
      "\n",
      "       PosN\tNear positive off-site feature--park, greenbelt, etc.\n",
      "\n",
      "       PosA\tAdjacent to postive off-site feature\n",
      "\n",
      "       RRNe\tWithin 200' of East-West Railroad\n",
      "\n",
      "       RRAe\tAdjacent to East-West Railroad\n",
      "\n",
      "\t\n",
      "\n",
      "BldgType: Type of dwelling\n",
      "\n",
      "\t\t\n",
      "\n",
      "       1Fam\tSingle-family Detached\t\n",
      "\n",
      "       2FmCon\tTwo-family Conversion; originally built as one-family dwelling\n",
      "\n",
      "       Duplx\tDuplex\n",
      "\n",
      "       TwnhsE\tTownhouse End Unit\n",
      "\n",
      "       TwnhsI\tTownhouse Inside Unit\n",
      "\n",
      "\t\n",
      "\n",
      "HouseStyle: Style of dwelling\n",
      "\n",
      "\t\n",
      "\n",
      "       1Story\tOne story\n",
      "\n",
      "       1.5Fin\tOne and one-half story: 2nd level finished\n",
      "\n",
      "       1.5Unf\tOne and one-half story: 2nd level unfinished\n",
      "\n",
      "       2Story\tTwo story\n",
      "\n",
      "       2.5Fin\tTwo and one-half story: 2nd level finished\n",
      "\n",
      "       2.5Unf\tTwo and one-half story: 2nd level unfinished\n",
      "\n",
      "       SFoyer\tSplit Foyer\n",
      "\n",
      "       SLvl\tSplit Level\n",
      "\n",
      "\t\n",
      "\n",
      "OverallQual: Rates the overall material and finish of the house\n",
      "\n",
      "\n",
      "\n",
      "       10\tVery Excellent\n",
      "\n",
      "       9\tExcellent\n",
      "\n",
      "       8\tVery Good\n",
      "\n",
      "       7\tGood\n",
      "\n",
      "       6\tAbove Average\n",
      "\n",
      "       5\tAverage\n",
      "\n",
      "       4\tBelow Average\n",
      "\n",
      "       3\tFair\n",
      "\n",
      "       2\tPoor\n",
      "\n",
      "       1\tVery Poor\n",
      "\n",
      "\t\n",
      "\n",
      "OverallCond: Rates the overall condition of the house\n",
      "\n",
      "\n",
      "\n",
      "       10\tVery Excellent\n",
      "\n",
      "       9\tExcellent\n",
      "\n",
      "       8\tVery Good\n",
      "\n",
      "       7\tGood\n",
      "\n",
      "       6\tAbove Average\t\n",
      "\n",
      "       5\tAverage\n",
      "\n",
      "       4\tBelow Average\t\n",
      "\n",
      "       3\tFair\n",
      "\n",
      "       2\tPoor\n",
      "\n",
      "       1\tVery Poor\n",
      "\n",
      "\t\t\n",
      "\n",
      "YearBuilt: Original construction date\n",
      "\n",
      "\n",
      "\n",
      "YearRemodAdd: Remodel date (same as construction date if no remodeling or additions)\n",
      "\n",
      "\n",
      "\n",
      "RoofStyle: Type of roof\n",
      "\n",
      "\n",
      "\n",
      "       Flat\tFlat\n",
      "\n",
      "       Gable\tGable\n",
      "\n",
      "       Gambrel\tGabrel (Barn)\n",
      "\n",
      "       Hip\tHip\n",
      "\n",
      "       Mansard\tMansard\n",
      "\n",
      "       Shed\tShed\n",
      "\n",
      "\t\t\n",
      "\n",
      "RoofMatl: Roof material\n",
      "\n",
      "\n",
      "\n",
      "       ClyTile\tClay or Tile\n",
      "\n",
      "       CompShg\tStandard (Composite) Shingle\n",
      "\n",
      "       Membran\tMembrane\n",
      "\n",
      "       Metal\tMetal\n",
      "\n",
      "       Roll\tRoll\n",
      "\n",
      "       Tar&Grv\tGravel & Tar\n",
      "\n",
      "       WdShake\tWood Shakes\n",
      "\n",
      "       WdShngl\tWood Shingles\n",
      "\n",
      "\t\t\n",
      "\n",
      "Exterior1st: Exterior covering on house\n",
      "\n",
      "\n",
      "\n",
      "       AsbShng\tAsbestos Shingles\n",
      "\n",
      "       AsphShn\tAsphalt Shingles\n",
      "\n",
      "       BrkComm\tBrick Common\n",
      "\n",
      "       BrkFace\tBrick Face\n",
      "\n",
      "       CBlock\tCinder Block\n",
      "\n",
      "       CemntBd\tCement Board\n",
      "\n",
      "       HdBoard\tHard Board\n",
      "\n",
      "       ImStucc\tImitation Stucco\n",
      "\n",
      "       MetalSd\tMetal Siding\n",
      "\n",
      "       Other\tOther\n",
      "\n",
      "       Plywood\tPlywood\n",
      "\n",
      "       PreCast\tPreCast\t\n",
      "\n",
      "       Stone\tStone\n",
      "\n",
      "       Stucco\tStucco\n",
      "\n",
      "       VinylSd\tVinyl Siding\n",
      "\n",
      "       Wd Sdng\tWood Siding\n",
      "\n",
      "       WdShing\tWood Shingles\n",
      "\n",
      "\t\n",
      "\n",
      "Exterior2nd: Exterior covering on house (if more than one material)\n",
      "\n",
      "\n",
      "\n",
      "       AsbShng\tAsbestos Shingles\n",
      "\n",
      "       AsphShn\tAsphalt Shingles\n",
      "\n",
      "       BrkComm\tBrick Common\n",
      "\n",
      "       BrkFace\tBrick Face\n",
      "\n",
      "       CBlock\tCinder Block\n",
      "\n",
      "       CemntBd\tCement Board\n",
      "\n",
      "       HdBoard\tHard Board\n",
      "\n",
      "       ImStucc\tImitation Stucco\n",
      "\n",
      "       MetalSd\tMetal Siding\n",
      "\n",
      "       Other\tOther\n",
      "\n",
      "       Plywood\tPlywood\n",
      "\n",
      "       PreCast\tPreCast\n",
      "\n",
      "       Stone\tStone\n",
      "\n",
      "       Stucco\tStucco\n",
      "\n",
      "       VinylSd\tVinyl Siding\n",
      "\n",
      "       Wd Sdng\tWood Siding\n",
      "\n",
      "       WdShing\tWood Shingles\n",
      "\n",
      "\t\n",
      "\n",
      "MasVnrType: Masonry veneer type\n",
      "\n",
      "\n",
      "\n",
      "       BrkCmn\tBrick Common\n",
      "\n",
      "       BrkFace\tBrick Face\n",
      "\n",
      "       CBlock\tCinder Block\n",
      "\n",
      "       None\tNone\n",
      "\n",
      "       Stone\tStone\n",
      "\n",
      "\t\n",
      "\n",
      "MasVnrArea: Masonry veneer area in square feet\n",
      "\n",
      "\n",
      "\n",
      "ExterQual: Evaluates the quality of the material on the exterior \n",
      "\n",
      "\t\t\n",
      "\n",
      "       Ex\tExcellent\n",
      "\n",
      "       Gd\tGood\n",
      "\n",
      "       TA\tAverage/Typical\n",
      "\n",
      "       Fa\tFair\n",
      "\n",
      "       Po\tPoor\n",
      "\n",
      "\t\t\n",
      "\n",
      "ExterCond: Evaluates the present condition of the material on the exterior\n",
      "\n",
      "\t\t\n",
      "\n",
      "       Ex\tExcellent\n",
      "\n",
      "       Gd\tGood\n",
      "\n",
      "       TA\tAverage/Typical\n",
      "\n",
      "       Fa\tFair\n",
      "\n",
      "       Po\tPoor\n",
      "\n",
      "\t\t\n",
      "\n",
      "Foundation: Type of foundation\n",
      "\n",
      "\t\t\n",
      "\n",
      "       BrkTil\tBrick & Tile\n",
      "\n",
      "       CBlock\tCinder Block\n",
      "\n",
      "       PConc\tPoured Contrete\t\n",
      "\n",
      "       Slab\tSlab\n",
      "\n",
      "       Stone\tStone\n",
      "\n",
      "       Wood\tWood\n",
      "\n",
      "\t\t\n",
      "\n",
      "BsmtQual: Evaluates the height of the basement\n",
      "\n",
      "\n",
      "\n",
      "       Ex\tExcellent (100+ inches)\t\n",
      "\n",
      "       Gd\tGood (90-99 inches)\n",
      "\n",
      "       TA\tTypical (80-89 inches)\n",
      "\n",
      "       Fa\tFair (70-79 inches)\n",
      "\n",
      "       Po\tPoor (<70 inches\n",
      "\n",
      "       NA\tNo Basement\n",
      "\n",
      "\t\t\n",
      "\n",
      "BsmtCond: Evaluates the general condition of the basement\n",
      "\n",
      "\n",
      "\n",
      "       Ex\tExcellent\n",
      "\n",
      "       Gd\tGood\n",
      "\n",
      "       TA\tTypical - slight dampness allowed\n",
      "\n",
      "       Fa\tFair - dampness or some cracking or settling\n",
      "\n",
      "       Po\tPoor - Severe cracking, settling, or wetness\n",
      "\n",
      "       NA\tNo Basement\n",
      "\n",
      "\t\n",
      "\n",
      "BsmtExposure: Refers to walkout or garden level walls\n",
      "\n",
      "\n",
      "\n",
      "       Gd\tGood Exposure\n",
      "\n",
      "       Av\tAverage Exposure (split levels or foyers typically score average or above)\t\n",
      "\n",
      "       Mn\tMimimum Exposure\n",
      "\n",
      "       No\tNo Exposure\n",
      "\n",
      "       NA\tNo Basement\n",
      "\n",
      "\t\n",
      "\n",
      "BsmtFinType1: Rating of basement finished area\n",
      "\n",
      "\n",
      "\n",
      "       GLQ\tGood Living Quarters\n",
      "\n",
      "       ALQ\tAverage Living Quarters\n",
      "\n",
      "       BLQ\tBelow Average Living Quarters\t\n",
      "\n",
      "       Rec\tAverage Rec Room\n",
      "\n",
      "       LwQ\tLow Quality\n",
      "\n",
      "       Unf\tUnfinshed\n",
      "\n",
      "       NA\tNo Basement\n",
      "\n",
      "\t\t\n",
      "\n",
      "BsmtFinSF1: Type 1 finished square feet\n",
      "\n",
      "\n",
      "\n",
      "BsmtFinType2: Rating of basement finished area (if multiple types)\n",
      "\n",
      "\n",
      "\n",
      "       GLQ\tGood Living Quarters\n",
      "\n",
      "       ALQ\tAverage Living Quarters\n",
      "\n",
      "       BLQ\tBelow Average Living Quarters\t\n",
      "\n",
      "       Rec\tAverage Rec Room\n",
      "\n",
      "       LwQ\tLow Quality\n",
      "\n",
      "       Unf\tUnfinshed\n",
      "\n",
      "       NA\tNo Basement\n",
      "\n",
      "\n",
      "\n",
      "BsmtFinSF2: Type 2 finished square feet\n",
      "\n",
      "\n",
      "\n",
      "BsmtUnfSF: Unfinished square feet of basement area\n",
      "\n",
      "\n",
      "\n",
      "TotalBsmtSF: Total square feet of basement area\n",
      "\n",
      "\n",
      "\n",
      "Heating: Type of heating\n",
      "\n",
      "\t\t\n",
      "\n",
      "       Floor\tFloor Furnace\n",
      "\n",
      "       GasA\tGas forced warm air furnace\n",
      "\n",
      "       GasW\tGas hot water or steam heat\n",
      "\n",
      "       Grav\tGravity furnace\t\n",
      "\n",
      "       OthW\tHot water or steam heat other than gas\n",
      "\n",
      "       Wall\tWall furnace\n",
      "\n",
      "\t\t\n",
      "\n",
      "HeatingQC: Heating quality and condition\n",
      "\n",
      "\n",
      "\n",
      "       Ex\tExcellent\n",
      "\n",
      "       Gd\tGood\n",
      "\n",
      "       TA\tAverage/Typical\n",
      "\n",
      "       Fa\tFair\n",
      "\n",
      "       Po\tPoor\n",
      "\n",
      "\t\t\n",
      "\n",
      "CentralAir: Central air conditioning\n",
      "\n",
      "\n",
      "\n",
      "       N\tNo\n",
      "\n",
      "       Y\tYes\n",
      "\n",
      "\t\t\n",
      "\n",
      "Electrical: Electrical system\n",
      "\n",
      "\n",
      "\n",
      "       SBrkr\tStandard Circuit Breakers & Romex\n",
      "\n",
      "       FuseA\tFuse Box over 60 AMP and all Romex wiring (Average)\t\n",
      "\n",
      "       FuseF\t60 AMP Fuse Box and mostly Romex wiring (Fair)\n",
      "\n",
      "       FuseP\t60 AMP Fuse Box and mostly knob & tube wiring (poor)\n",
      "\n",
      "       Mix\tMixed\n",
      "\n",
      "\t\t\n",
      "\n",
      "1stFlrSF: First Floor square feet\n",
      "\n",
      " \n",
      "\n",
      "2ndFlrSF: Second floor square feet\n",
      "\n",
      "\n",
      "\n",
      "LowQualFinSF: Low quality finished square feet (all floors)\n",
      "\n",
      "\n",
      "\n",
      "GrLivArea: Above grade (ground) living area square feet\n",
      "\n",
      "\n",
      "\n",
      "BsmtFullBath: Basement full bathrooms\n",
      "\n",
      "\n",
      "\n",
      "BsmtHalfBath: Basement half bathrooms\n",
      "\n",
      "\n",
      "\n",
      "FullBath: Full bathrooms above grade\n",
      "\n",
      "\n",
      "\n",
      "HalfBath: Half baths above grade\n",
      "\n",
      "\n",
      "\n",
      "Bedroom: Bedrooms above grade (does NOT include basement bedrooms)\n",
      "\n",
      "\n",
      "\n",
      "Kitchen: Kitchens above grade\n",
      "\n",
      "\n",
      "\n",
      "KitchenQual: Kitchen quality\n",
      "\n",
      "\n",
      "\n",
      "       Ex\tExcellent\n",
      "\n",
      "       Gd\tGood\n",
      "\n",
      "       TA\tTypical/Average\n",
      "\n",
      "       Fa\tFair\n",
      "\n",
      "       Po\tPoor\n",
      "\n",
      "       \t\n",
      "\n",
      "TotRmsAbvGrd: Total rooms above grade (does not include bathrooms)\n",
      "\n",
      "\n",
      "\n",
      "Functional: Home functionality (Assume typical unless deductions are warranted)\n",
      "\n",
      "\n",
      "\n",
      "       Typ\tTypical Functionality\n",
      "\n",
      "       Min1\tMinor Deductions 1\n",
      "\n",
      "       Min2\tMinor Deductions 2\n",
      "\n",
      "       Mod\tModerate Deductions\n",
      "\n",
      "       Maj1\tMajor Deductions 1\n",
      "\n",
      "       Maj2\tMajor Deductions 2\n",
      "\n",
      "       Sev\tSeverely Damaged\n",
      "\n",
      "       Sal\tSalvage only\n",
      "\n",
      "\t\t\n",
      "\n",
      "Fireplaces: Number of fireplaces\n",
      "\n",
      "\n",
      "\n",
      "FireplaceQu: Fireplace quality\n",
      "\n",
      "\n",
      "\n",
      "       Ex\tExcellent - Exceptional Masonry Fireplace\n",
      "\n",
      "       Gd\tGood - Masonry Fireplace in main level\n",
      "\n",
      "       TA\tAverage - Prefabricated Fireplace in main living area or Masonry Fireplace in basement\n",
      "\n",
      "       Fa\tFair - Prefabricated Fireplace in basement\n",
      "\n",
      "       Po\tPoor - Ben Franklin Stove\n",
      "\n",
      "       NA\tNo Fireplace\n",
      "\n",
      "\t\t\n",
      "\n",
      "GarageType: Garage location\n",
      "\n",
      "\t\t\n",
      "\n",
      "       2Types\tMore than one type of garage\n",
      "\n",
      "       Attchd\tAttached to home\n",
      "\n",
      "       Basment\tBasement Garage\n",
      "\n",
      "       BuiltIn\tBuilt-In (Garage part of house - typically has room above garage)\n",
      "\n",
      "       CarPort\tCar Port\n",
      "\n",
      "       Detchd\tDetached from home\n",
      "\n",
      "       NA\tNo Garage\n",
      "\n",
      "\t\t\n",
      "\n",
      "GarageYrBlt: Year garage was built\n",
      "\n",
      "\t\t\n",
      "\n",
      "GarageFinish: Interior finish of the garage\n",
      "\n",
      "\n",
      "\n",
      "       Fin\tFinished\n",
      "\n",
      "       RFn\tRough Finished\t\n",
      "\n",
      "       Unf\tUnfinished\n",
      "\n",
      "       NA\tNo Garage\n",
      "\n",
      "\t\t\n",
      "\n",
      "GarageCars: Size of garage in car capacity\n",
      "\n",
      "\n",
      "\n",
      "GarageArea: Size of garage in square feet\n",
      "\n",
      "\n",
      "\n",
      "GarageQual: Garage quality\n",
      "\n",
      "\n",
      "\n",
      "       Ex\tExcellent\n",
      "\n",
      "       Gd\tGood\n",
      "\n",
      "       TA\tTypical/Average\n",
      "\n",
      "       Fa\tFair\n",
      "\n",
      "       Po\tPoor\n",
      "\n",
      "       NA\tNo Garage\n",
      "\n",
      "\t\t\n",
      "\n",
      "GarageCond: Garage condition\n",
      "\n",
      "\n",
      "\n",
      "       Ex\tExcellent\n",
      "\n",
      "       Gd\tGood\n",
      "\n",
      "       TA\tTypical/Average\n",
      "\n",
      "       Fa\tFair\n",
      "\n",
      "       Po\tPoor\n",
      "\n",
      "       NA\tNo Garage\n",
      "\n",
      "\t\t\n",
      "\n",
      "PavedDrive: Paved driveway\n",
      "\n",
      "\n",
      "\n",
      "       Y\tPaved \n",
      "\n",
      "       P\tPartial Pavement\n",
      "\n",
      "       N\tDirt/Gravel\n",
      "\n",
      "\t\t\n",
      "\n",
      "WoodDeckSF: Wood deck area in square feet\n",
      "\n",
      "\n",
      "\n",
      "OpenPorchSF: Open porch area in square feet\n",
      "\n",
      "\n",
      "\n",
      "EnclosedPorch: Enclosed porch area in square feet\n",
      "\n",
      "\n",
      "\n",
      "3SsnPorch: Three season porch area in square feet\n",
      "\n",
      "\n",
      "\n",
      "ScreenPorch: Screen porch area in square feet\n",
      "\n",
      "\n",
      "\n",
      "PoolArea: Pool area in square feet\n",
      "\n",
      "\n",
      "\n",
      "PoolQC: Pool quality\n",
      "\n",
      "\t\t\n",
      "\n",
      "       Ex\tExcellent\n",
      "\n",
      "       Gd\tGood\n",
      "\n",
      "       TA\tAverage/Typical\n",
      "\n",
      "       Fa\tFair\n",
      "\n",
      "       NA\tNo Pool\n",
      "\n",
      "\t\t\n",
      "\n",
      "Fence: Fence quality\n",
      "\n",
      "\t\t\n",
      "\n",
      "       GdPrv\tGood Privacy\n",
      "\n",
      "       MnPrv\tMinimum Privacy\n",
      "\n",
      "       GdWo\tGood Wood\n",
      "\n",
      "       MnWw\tMinimum Wood/Wire\n",
      "\n",
      "       NA\tNo Fence\n",
      "\n",
      "\t\n",
      "\n",
      "MiscFeature: Miscellaneous feature not covered in other categories\n",
      "\n",
      "\t\t\n",
      "\n",
      "       Elev\tElevator\n",
      "\n",
      "       Gar2\t2nd Garage (if not described in garage section)\n",
      "\n",
      "       Othr\tOther\n",
      "\n",
      "       Shed\tShed (over 100 SF)\n",
      "\n",
      "       TenC\tTennis Court\n",
      "\n",
      "       NA\tNone\n",
      "\n",
      "\t\t\n",
      "\n",
      "MiscVal: $Value of miscellaneous feature\n",
      "\n",
      "\n",
      "\n",
      "MoSold: Month Sold (MM)\n",
      "\n",
      "\n",
      "\n",
      "YrSold: Year Sold (YYYY)\n",
      "\n",
      "\n",
      "\n",
      "SaleType: Type of sale\n",
      "\n",
      "\t\t\n",
      "\n",
      "       WD \tWarranty Deed - Conventional\n",
      "\n",
      "       CWD\tWarranty Deed - Cash\n",
      "\n",
      "       VWD\tWarranty Deed - VA Loan\n",
      "\n",
      "       New\tHome just constructed and sold\n",
      "\n",
      "       COD\tCourt Officer Deed/Estate\n",
      "\n",
      "       Con\tContract 15% Down payment regular terms\n",
      "\n",
      "       ConLw\tContract Low Down payment and low interest\n",
      "\n",
      "       ConLI\tContract Low Interest\n",
      "\n",
      "       ConLD\tContract Low Down\n",
      "\n",
      "       Oth\tOther\n",
      "\n",
      "\t\t\n",
      "\n",
      "SaleCondition: Condition of sale\n",
      "\n",
      "\n",
      "\n",
      "       Normal\tNormal Sale\n",
      "\n",
      "       Abnorml\tAbnormal Sale -  trade, foreclosure, short sale\n",
      "\n",
      "       AdjLand\tAdjoining Land Purchase\n",
      "\n",
      "       Alloca\tAllocation - two linked properties with separate deeds, typically condo with a garage unit\t\n",
      "\n",
      "       Family\tSale between family members\n",
      "\n",
      "       Partial\tHome was not completed when last assessed (associated with New Homes)\n"
     ]
    }
   ],
   "source": [
    "f=open('D:\\Python\\Price Forecast\\description.txt','r')\n",
    "lines=f.readlines()\n",
    "for line in lines:\n",
    "    print(line)\n"
   ]
  },
  {
   "cell_type": "code",
   "execution_count": 8,
   "metadata": {},
   "outputs": [
    {
     "data": {
      "text/plain": [
       "Index(['Id', 'MSSubClass', 'MSZoning', 'LotFrontage', 'LotArea', 'Street',\n",
       "       'Alley', 'LotShape', 'LandContour', 'Utilities', 'LotConfig',\n",
       "       'LandSlope', 'Neighborhood', 'Condition1', 'Condition2', 'BldgType',\n",
       "       'HouseStyle', 'OverallQual', 'OverallCond', 'YearBuilt', 'YearRemodAdd',\n",
       "       'RoofStyle', 'RoofMatl', 'Exterior1st', 'Exterior2nd', 'MasVnrType',\n",
       "       'MasVnrArea', 'ExterQual', 'ExterCond', 'Foundation', 'BsmtQual',\n",
       "       'BsmtCond', 'BsmtExposure', 'BsmtFinType1', 'BsmtFinSF1',\n",
       "       'BsmtFinType2', 'BsmtFinSF2', 'BsmtUnfSF', 'TotalBsmtSF', 'Heating',\n",
       "       'HeatingQC', 'CentralAir', 'Electrical', '1stFlrSF', '2ndFlrSF',\n",
       "       'LowQualFinSF', 'GrLivArea', 'BsmtFullBath', 'BsmtHalfBath', 'FullBath',\n",
       "       'HalfBath', 'BedroomAbvGr', 'KitchenAbvGr', 'KitchenQual',\n",
       "       'TotRmsAbvGrd', 'Functional', 'Fireplaces', 'FireplaceQu', 'GarageType',\n",
       "       'GarageYrBlt', 'GarageFinish', 'GarageCars', 'GarageArea', 'GarageQual',\n",
       "       'GarageCond', 'PavedDrive', 'WoodDeckSF', 'OpenPorchSF',\n",
       "       'EnclosedPorch', '3SsnPorch', 'ScreenPorch', 'PoolArea', 'PoolQC',\n",
       "       'Fence', 'MiscFeature', 'MiscVal', 'MoSold', 'YrSold', 'SaleType',\n",
       "       'SaleCondition', 'SalePrice'],\n",
       "      dtype='object')"
      ]
     },
     "execution_count": 8,
     "metadata": {},
     "output_type": "execute_result"
    }
   ],
   "source": [
    "train_df.columns"
   ]
  },
  {
   "cell_type": "code",
   "execution_count": 9,
   "metadata": {},
   "outputs": [
    {
     "data": {
      "text/plain": [
       "Index(['Id', 'MSSubClass', 'MSZoning', 'LotFrontage', 'LotArea', 'Street',\n",
       "       'Alley', 'LotShape', 'LandContour', 'Utilities', 'LotConfig',\n",
       "       'LandSlope', 'Neighborhood', 'Condition1', 'Condition2', 'BldgType',\n",
       "       'HouseStyle', 'OverallQual', 'OverallCond', 'YearBuilt', 'YearRemodAdd',\n",
       "       'RoofStyle', 'RoofMatl', 'Exterior1st', 'Exterior2nd', 'MasVnrType',\n",
       "       'MasVnrArea', 'ExterQual', 'ExterCond', 'Foundation', 'BsmtQual',\n",
       "       'BsmtCond', 'BsmtExposure', 'BsmtFinType1', 'BsmtFinSF1',\n",
       "       'BsmtFinType2', 'BsmtFinSF2', 'BsmtUnfSF', 'TotalBsmtSF', 'Heating',\n",
       "       'HeatingQC', 'CentralAir', 'Electrical', '1stFlrSF', '2ndFlrSF',\n",
       "       'LowQualFinSF', 'GrLivArea', 'BsmtFullBath', 'BsmtHalfBath', 'FullBath',\n",
       "       'HalfBath', 'BedroomAbvGr', 'KitchenAbvGr', 'KitchenQual',\n",
       "       'TotRmsAbvGrd', 'Functional', 'Fireplaces', 'FireplaceQu', 'GarageType',\n",
       "       'GarageYrBlt', 'GarageFinish', 'GarageCars', 'GarageArea', 'GarageQual',\n",
       "       'GarageCond', 'PavedDrive', 'WoodDeckSF', 'OpenPorchSF',\n",
       "       'EnclosedPorch', '3SsnPorch', 'ScreenPorch', 'PoolArea', 'PoolQC',\n",
       "       'Fence', 'MiscFeature', 'MiscVal', 'MoSold', 'YrSold', 'SaleType',\n",
       "       'SaleCondition'],\n",
       "      dtype='object')"
      ]
     },
     "execution_count": 9,
     "metadata": {},
     "output_type": "execute_result"
    }
   ],
   "source": [
    "test_df.columns"
   ]
  },
  {
   "cell_type": "code",
   "execution_count": 10,
   "metadata": {
    "collapsed": true
   },
   "outputs": [],
   "source": [
    "data=pd.concat([train_df,test_df])\n"
   ]
  },
  {
   "cell_type": "markdown",
   "metadata": {},
   "source": [
    "# 数据描述"
   ]
  },
  {
   "cell_type": "code",
   "execution_count": 11,
   "metadata": {},
   "outputs": [
    {
     "data": {
      "text/plain": [
       "SalePrice        1.000000\n",
       "OverallQual      0.790982\n",
       "GrLivArea        0.708624\n",
       "GarageCars       0.640409\n",
       "GarageArea       0.623431\n",
       "TotalBsmtSF      0.613581\n",
       "1stFlrSF         0.605852\n",
       "FullBath         0.560664\n",
       "TotRmsAbvGrd     0.533723\n",
       "YearBuilt        0.522897\n",
       "YearRemodAdd     0.507101\n",
       "GarageYrBlt      0.486362\n",
       "MasVnrArea       0.477493\n",
       "Fireplaces       0.466929\n",
       "BsmtFinSF1       0.386420\n",
       "LotFrontage      0.351799\n",
       "WoodDeckSF       0.324413\n",
       "2ndFlrSF         0.319334\n",
       "OpenPorchSF      0.315856\n",
       "HalfBath         0.284108\n",
       "LotArea          0.263843\n",
       "BsmtFullBath     0.227122\n",
       "BsmtUnfSF        0.214479\n",
       "BedroomAbvGr     0.168213\n",
       "ScreenPorch      0.111447\n",
       "PoolArea         0.092404\n",
       "MoSold           0.046432\n",
       "3SsnPorch        0.044584\n",
       "BsmtFinSF2      -0.011378\n",
       "BsmtHalfBath    -0.016844\n",
       "MiscVal         -0.021190\n",
       "Id              -0.021917\n",
       "LowQualFinSF    -0.025606\n",
       "YrSold          -0.028923\n",
       "OverallCond     -0.077856\n",
       "MSSubClass      -0.084284\n",
       "EnclosedPorch   -0.128578\n",
       "KitchenAbvGr    -0.135907\n",
       "Name: SalePrice, dtype: float64"
      ]
     },
     "execution_count": 11,
     "metadata": {},
     "output_type": "execute_result"
    }
   ],
   "source": [
    "train_df.corr().SalePrice.sort_values(ascending=False)"
   ]
  },
  {
   "cell_type": "code",
   "execution_count": 12,
   "metadata": {},
   "outputs": [
    {
     "data": {
      "image/png": "[encoded data removed]",
      "text/plain": [
       "<matplotlib.figure.Figure at 0xc0a8650>"
      ]
     },
     "metadata": {},
     "output_type": "display_data"
    }
   ],
   "source": [
    "plt.figure(figsize=(10,10))\n",
    "sns.heatmap(train_df.corr(),vmax=0.7,square=True)\n",
    "plt.show()"
   ]
  },
  {
   "cell_type": "code",
   "execution_count": 13,
   "metadata": {},
   "outputs": [
    {
     "data": {
      "image/png": "[encoded data removed]",
      "text/plain": [
       "<matplotlib.figure.Figure at 0xc1ba910>"
      ]
     },
     "metadata": {},
     "output_type": "display_data"
    }
   ],
   "source": [
    "sns.distplot(train_df.SalePrice,color='red')\n",
    "plt.show()"
   ]
  },
  {
   "cell_type": "code",
   "execution_count": 14,
   "metadata": {},
   "outputs": [
    {
     "name": "stdout",
     "output_type": "stream",
     "text": [
      "saleprice skew is:1.8828757597682129\n"
     ]
    }
   ],
   "source": [
    "print(\"saleprice skew is:%r\"%(train_df.SalePrice.skew()))"
   ]
  },
  {
   "cell_type": "code",
   "execution_count": 15,
   "metadata": {},
   "outputs": [
    {
     "name": "stdout",
     "output_type": "stream",
     "text": [
      "saleprice kurt is:6.5362818600645287\n"
     ]
    }
   ],
   "source": [
    "print(\"saleprice kurt is:%r\"%(train_df.SalePrice.kurt()))"
   ]
  },
  {
   "cell_type": "code",
   "execution_count": 16,
   "metadata": {},
   "outputs": [
    {
     "data": {
      "image/png": "[encoded data removed]",
      "text/plain": [
       "<matplotlib.figure.Figure at 0xc47e0b0>"
      ]
     },
     "metadata": {},
     "output_type": "display_data"
    }
   ],
   "source": [
    "plt.scatter(train_df.LotArea,train_df.SalePrice,alpha=0.6,color='red')\n",
    "plt.show()"
   ]
  },
  {
   "cell_type": "code",
   "execution_count": 17,
   "metadata": {},
   "outputs": [
    {
     "data": {
      "image/png": "[encoded data removed]",
      "text/plain": [
       "<matplotlib.figure.Figure at 0xc361ed0>"
      ]
     },
     "metadata": {},
     "output_type": "display_data"
    }
   ],
   "source": [
    "sns.swarmplot(x='TotalBsmtSF',y='SalePrice',data=train_df)\n",
    "plt.show()"
   ]
  },
  {
   "cell_type": "code",
   "execution_count": 18,
   "metadata": {
    "collapsed": true
   },
   "outputs": [],
   "source": [
    "data['OverallQual']=data.OverallQual.map({10:'Very Excellent',\n",
    "       9:'Excellent',\n",
    "       8:'Very Good',\n",
    "       7:'Good',\n",
    "       6:'Above Average',\n",
    "       5:'Average',\n",
    "       4:'Below Average',\n",
    "       3:'Fair',\n",
    "       2:'Poor',\n",
    "       1:'Very Poor'})\n",
    "train_df['OverallQual']=train_df.OverallQual.map({10:'Very Excellent',\n",
    "       9:'Excellent',\n",
    "       8:'Very Good',\n",
    "       7:'Good',\n",
    "       6:'Above Average',\n",
    "       5:'Average',\n",
    "       4:'Below Average',\n",
    "       3:'Fair',\n",
    "       2:'Poor',\n",
    "       1:'Very Poor'})\n"
   ]
  },
  {
   "cell_type": "code",
   "execution_count": 19,
   "metadata": {},
   "outputs": [
    {
     "data": {
      "image/png": "[encoded data removed]",
      "text/plain": [
       "<matplotlib.figure.Figure at 0xd002db0>"
      ]
     },
     "metadata": {},
     "output_type": "display_data"
    }
   ],
   "source": [
    "plt.figure(figsize=(15,10))\n",
    "sns.boxplot(x='OverallQual',y='SalePrice',data=train_df)\n",
    "plt.show()"
   ]
  },
  {
   "cell_type": "code",
   "execution_count": 20,
   "metadata": {},
   "outputs": [
    {
     "data": {
      "image/png": "[encoded data removed]",
      "text/plain": [
       "<matplotlib.figure.Figure at 0xd002a50>"
      ]
     },
     "metadata": {},
     "output_type": "display_data"
    }
   ],
   "source": [
    "plt.scatter(train_df.GrLivArea,train_df.SalePrice)\n",
    "plt.show()"
   ]
  },
  {
   "cell_type": "code",
   "execution_count": 21,
   "metadata": {},
   "outputs": [
    {
     "data": {
      "image/png": "[encoded data removed]",
      "text/plain": [
       "<matplotlib.figure.Figure at 0xda0def0>"
      ]
     },
     "metadata": {},
     "output_type": "display_data"
    },
    {
     "data": {
      "image/png": "[encoded data removed]",
      "text/plain": [
       "<matplotlib.figure.Figure at 0xd76ef90>"
      ]
     },
     "metadata": {},
     "output_type": "display_data"
    }
   ],
   "source": [
    "fig=plt.figure(figsize=(10,6))\n",
    "\n",
    "sns.violinplot(x=train_df['GarageCars'],y=train_df['SalePrice'])\n",
    "plt.title(\"factor:Size of garage in car capacity\")\n",
    "plt.show()\n",
    "fig=plt.figure(figsize=(10,6))\n",
    "\n",
    "sns.violinplot(x=train_df['MSZoning'],y=train_df['SalePrice'])\n",
    "plt.title(\"factor:Identifies the general zoning classification of the sale\")\n",
    "plt.show()"
   ]
  },
  {
   "cell_type": "code",
   "execution_count": 22,
   "metadata": {},
   "outputs": [
    {
     "data": {
      "image/png": "[encoded data removed]",
      "text/plain": [
       "<matplotlib.figure.Figure at 0xda05ef0>"
      ]
     },
     "metadata": {},
     "output_type": "display_data"
    }
   ],
   "source": [
    "train_df.groupby('YearBuilt')['SalePrice'].mean().plot()\n",
    "plt.show()"
   ]
  },
  {
   "cell_type": "code",
   "execution_count": 23,
   "metadata": {},
   "outputs": [
    {
     "data": {
      "image/png": "[encoded data removed]",
      "text/plain": [
       "<matplotlib.figure.Figure at 0xd4e5830>"
      ]
     },
     "metadata": {},
     "output_type": "display_data"
    }
   ],
   "source": [
    "plt.scatter(train_df.TotalBsmtSF,train_df.SalePrice)\n",
    "plt.show()"
   ]
  },
  {
   "cell_type": "code",
   "execution_count": 24,
   "metadata": {},
   "outputs": [
    {
     "data": {
      "text/html": [
       "<div>\n",
       "<style>\n",
       "    .dataframe thead tr:only-child th {\n",
       "        text-align: right;\n",
       "    }\n",
       "\n",
       "    .dataframe thead th {\n",
       "        text-align: left;\n",
       "    }\n",
       "\n",
       "    .dataframe tbody tr th {\n",
       "        vertical-align: top;\n",
       "    }\n",
       "</style>\n",
       "<table border=\"1\" class=\"dataframe\">\n",
       "  <thead>\n",
       "    <tr style=\"text-align: right;\">\n",
       "      <th></th>\n",
       "      <th>SalePrice</th>\n",
       "      <th>OverallQual</th>\n",
       "      <th>GrLivArea</th>\n",
       "      <th>GarageCars</th>\n",
       "      <th>GarageArea</th>\n",
       "      <th>TotalBsmtSF</th>\n",
       "      <th>1stFlrSF</th>\n",
       "      <th>FullBath</th>\n",
       "      <th>TotRmsAbvGrd</th>\n",
       "      <th>YearBuilt</th>\n",
       "      <th>YearRemodAdd</th>\n",
       "    </tr>\n",
       "  </thead>\n",
       "  <tbody>\n",
       "    <tr>\n",
       "      <th>0</th>\n",
       "      <td>208500.0</td>\n",
       "      <td>Good</td>\n",
       "      <td>1710</td>\n",
       "      <td>2.0</td>\n",
       "      <td>548.0</td>\n",
       "      <td>856.0</td>\n",
       "      <td>856</td>\n",
       "      <td>2</td>\n",
       "      <td>8</td>\n",
       "      <td>2003</td>\n",
       "      <td>2003</td>\n",
       "    </tr>\n",
       "    <tr>\n",
       "      <th>1</th>\n",
       "      <td>181500.0</td>\n",
       "      <td>Above Average</td>\n",
       "      <td>1262</td>\n",
       "      <td>2.0</td>\n",
       "      <td>460.0</td>\n",
       "      <td>1262.0</td>\n",
       "      <td>1262</td>\n",
       "      <td>2</td>\n",
       "      <td>6</td>\n",
       "      <td>1976</td>\n",
       "      <td>1976</td>\n",
       "    </tr>\n",
       "    <tr>\n",
       "      <th>2</th>\n",
       "      <td>223500.0</td>\n",
       "      <td>Good</td>\n",
       "      <td>1786</td>\n",
       "      <td>2.0</td>\n",
       "      <td>608.0</td>\n",
       "      <td>920.0</td>\n",
       "      <td>920</td>\n",
       "      <td>2</td>\n",
       "      <td>6</td>\n",
       "      <td>2001</td>\n",
       "      <td>2002</td>\n",
       "    </tr>\n",
       "    <tr>\n",
       "      <th>3</th>\n",
       "      <td>140000.0</td>\n",
       "      <td>Good</td>\n",
       "      <td>1717</td>\n",
       "      <td>3.0</td>\n",
       "      <td>642.0</td>\n",
       "      <td>756.0</td>\n",
       "      <td>961</td>\n",
       "      <td>1</td>\n",
       "      <td>7</td>\n",
       "      <td>1915</td>\n",
       "      <td>1970</td>\n",
       "    </tr>\n",
       "    <tr>\n",
       "      <th>4</th>\n",
       "      <td>250000.0</td>\n",
       "      <td>Very Good</td>\n",
       "      <td>2198</td>\n",
       "      <td>3.0</td>\n",
       "      <td>836.0</td>\n",
       "      <td>1145.0</td>\n",
       "      <td>1145</td>\n",
       "      <td>2</td>\n",
       "      <td>9</td>\n",
       "      <td>2000</td>\n",
       "      <td>2000</td>\n",
       "    </tr>\n",
       "  </tbody>\n",
       "</table>\n",
       "</div>"
      ],
      "text/plain": [
       "   SalePrice    OverallQual  GrLivArea  GarageCars  GarageArea  TotalBsmtSF  \\\n",
       "0   208500.0           Good       1710         2.0       548.0        856.0   \n",
       "1   181500.0  Above Average       1262         2.0       460.0       1262.0   \n",
       "2   223500.0           Good       1786         2.0       608.0        920.0   \n",
       "3   140000.0           Good       1717         3.0       642.0        756.0   \n",
       "4   250000.0      Very Good       2198         3.0       836.0       1145.0   \n",
       "\n",
       "   1stFlrSF  FullBath  TotRmsAbvGrd  YearBuilt  YearRemodAdd  \n",
       "0       856         2             8       2003          2003  \n",
       "1      1262         2             6       1976          1976  \n",
       "2       920         2             6       2001          2002  \n",
       "3       961         1             7       1915          1970  \n",
       "4      1145         2             9       2000          2000  "
      ]
     },
     "execution_count": 24,
     "metadata": {},
     "output_type": "execute_result"
    }
   ],
   "source": [
    "train_df=data[['SalePrice','OverallQual','GrLivArea','GarageCars','GarageArea','TotalBsmtSF','1stFlrSF','FullBath','TotRmsAbvGrd','YearBuilt','YearRemodAdd']]\n",
    "train_df.head()"
   ]
  },
  {
   "cell_type": "code",
   "execution_count": 25,
   "metadata": {},
   "outputs": [
    {
     "data": {
      "image/png": "[encoded data removed]",
      "text/plain": [
       "<matplotlib.figure.Figure at 0xd7a2d70>"
      ]
     },
     "metadata": {},
     "output_type": "display_data"
    }
   ],
   "source": [
    "sns.heatmap(train_df.corr())\n",
    "plt.show()"
   ]
  },
  {
   "cell_type": "code",
   "execution_count": 26,
   "metadata": {},
   "outputs": [
    {
     "data": {
      "text/plain": [
       "SalePrice       1459\n",
       "OverallQual        0\n",
       "GrLivArea          0\n",
       "GarageCars         1\n",
       "GarageArea         1\n",
       "TotalBsmtSF        1\n",
       "1stFlrSF           0\n",
       "FullBath           0\n",
       "TotRmsAbvGrd       0\n",
       "YearBuilt          0\n",
       "YearRemodAdd       0\n",
       "dtype: int64"
      ]
     },
     "execution_count": 26,
     "metadata": {},
     "output_type": "execute_result"
    }
   ],
   "source": [
    "train_df.isnull().sum()"
   ]
  },
  {
   "cell_type": "code",
   "execution_count": 27,
   "metadata": {},
   "outputs": [
    {
     "data": {
      "text/plain": [
       "(2919, 11)"
      ]
     },
     "execution_count": 27,
     "metadata": {},
     "output_type": "execute_result"
    }
   ],
   "source": [
    "train_df.shape"
   ]
  },
  {
   "cell_type": "code",
   "execution_count": 28,
   "metadata": {},
   "outputs": [
    {
     "data": {
      "text/plain": [
       "GarageCars\n",
       "0.0     157\n",
       "1.0     776\n",
       "2.0    1594\n",
       "3.0     374\n",
       "4.0      16\n",
       "5.0       1\n",
       "Name: GarageCars, dtype: int64"
      ]
     },
     "execution_count": 28,
     "metadata": {},
     "output_type": "execute_result"
    }
   ],
   "source": [
    "train_df.groupby('GarageCars')['GarageCars'].agg('count')"
   ]
  },
  {
   "cell_type": "code",
   "execution_count": 29,
   "metadata": {},
   "outputs": [
    {
     "name": "stderr",
     "output_type": "stream",
     "text": [
      "C:\\Users\\kkluc\\Anaconda3\\lib\\site-packages\\pandas\\core\\frame.py:2852: SettingWithCopyWarning: \n",
      "A value is trying to be set on a copy of a slice from a DataFrame\n",
      "\n",
      "See the caveats in the documentation: http://pandas.pydata.org/pandas-docs/stable/indexing.html#indexing-view-versus-copy\n",
      "  downcast=downcast, **kwargs)\n"
     ]
    }
   ],
   "source": [
    "train_df.fillna(train_df['GarageCars'].median(),inplace=True)\n"
   ]
  },
  {
   "cell_type": "code",
   "execution_count": 30,
   "metadata": {},
   "outputs": [
    {
     "name": "stderr",
     "output_type": "stream",
     "text": [
      "C:\\Users\\kkluc\\Anaconda3\\lib\\site-packages\\pandas\\core\\generic.py:3549: SettingWithCopyWarning: \n",
      "A value is trying to be set on a copy of a slice from a DataFrame\n",
      "\n",
      "See the caveats in the documentation: http://pandas.pydata.org/pandas-docs/stable/indexing.html#indexing-view-versus-copy\n",
      "  self._update_inplace(new_data)\n"
     ]
    }
   ],
   "source": [
    "train_df.GarageArea.fillna(0,inplace=True)"
   ]
  },
  {
   "cell_type": "code",
   "execution_count": 31,
   "metadata": {},
   "outputs": [
    {
     "data": {
      "image/png": "[encoded data removed]",
      "text/plain": [
       "<matplotlib.figure.Figure at 0xd6d0530>"
      ]
     },
     "metadata": {},
     "output_type": "display_data"
    }
   ],
   "source": [
    "train_df.TotalBsmtSF.plot(kind='hist',bins=50)\n",
    "plt.show()"
   ]
  },
  {
   "cell_type": "code",
   "execution_count": 32,
   "metadata": {},
   "outputs": [
    {
     "name": "stderr",
     "output_type": "stream",
     "text": [
      "C:\\Users\\kkluc\\Anaconda3\\lib\\site-packages\\pandas\\core\\generic.py:3549: SettingWithCopyWarning: \n",
      "A value is trying to be set on a copy of a slice from a DataFrame\n",
      "\n",
      "See the caveats in the documentation: http://pandas.pydata.org/pandas-docs/stable/indexing.html#indexing-view-versus-copy\n",
      "  self._update_inplace(new_data)\n"
     ]
    }
   ],
   "source": [
    "train_df.TotalBsmtSF.fillna(train_df['TotalBsmtSF'].mean(),inplace=True)"
   ]
  },
  {
   "cell_type": "code",
   "execution_count": 33,
   "metadata": {},
   "outputs": [
    {
     "data": {
      "text/plain": [
       "(2919, 11)"
      ]
     },
     "execution_count": 33,
     "metadata": {},
     "output_type": "execute_result"
    }
   ],
   "source": [
    "train_df.shape"
   ]
  },
  {
   "cell_type": "code",
   "execution_count": 34,
   "metadata": {},
   "outputs": [
    {
     "name": "stdout",
     "output_type": "stream",
     "text": [
      "<class 'pandas.core.frame.DataFrame'>\n",
      "Int64Index: 2919 entries, 0 to 1458\n",
      "Data columns (total 11 columns):\n",
      "SalePrice       2919 non-null float64\n",
      "OverallQual     2919 non-null object\n",
      "GrLivArea       2919 non-null int64\n",
      "GarageCars      2919 non-null float64\n",
      "GarageArea      2919 non-null float64\n",
      "TotalBsmtSF     2919 non-null float64\n",
      "1stFlrSF        2919 non-null int64\n",
      "FullBath        2919 non-null int64\n",
      "TotRmsAbvGrd    2919 non-null int64\n",
      "YearBuilt       2919 non-null int64\n",
      "YearRemodAdd    2919 non-null int64\n",
      "dtypes: float64(4), int64(6), object(1)\n",
      "memory usage: 262.3+ KB\n"
     ]
    }
   ],
   "source": [
    "train_df.info()"
   ]
  },
  {
   "cell_type": "markdown",
   "metadata": {},
   "source": [
    "# 特征提取"
   ]
  },
  {
   "cell_type": "code",
   "execution_count": 35,
   "metadata": {},
   "outputs": [
    {
     "name": "stderr",
     "output_type": "stream",
     "text": [
      "C:\\Users\\kkluc\\Anaconda3\\lib\\site-packages\\pandas\\core\\generic.py:3725: SettingWithCopyWarning: \n",
      "A value is trying to be set on a copy of a slice from a DataFrame\n",
      "\n",
      "See the caveats in the documentation: http://pandas.pydata.org/pandas-docs/stable/indexing.html#indexing-view-versus-copy\n",
      "  limit=limit, regex=regex)\n"
     ]
    }
   ],
   "source": [
    "import numpy as np\n",
    "train_df.replace({2:np.nan},inplace=True)"
   ]
  },
  {
   "cell_type": "code",
   "execution_count": 36,
   "metadata": {},
   "outputs": [
    {
     "data": {
      "text/html": [
       "<div>\n",
       "<style>\n",
       "    .dataframe thead tr:only-child th {\n",
       "        text-align: right;\n",
       "    }\n",
       "\n",
       "    .dataframe thead th {\n",
       "        text-align: left;\n",
       "    }\n",
       "\n",
       "    .dataframe tbody tr th {\n",
       "        vertical-align: top;\n",
       "    }\n",
       "</style>\n",
       "<table border=\"1\" class=\"dataframe\">\n",
       "  <thead>\n",
       "    <tr style=\"text-align: right;\">\n",
       "      <th></th>\n",
       "      <th>SalePrice</th>\n",
       "      <th>GrLivArea</th>\n",
       "      <th>GarageCars</th>\n",
       "      <th>GarageArea</th>\n",
       "      <th>TotalBsmtSF</th>\n",
       "      <th>1stFlrSF</th>\n",
       "      <th>FullBath</th>\n",
       "      <th>TotRmsAbvGrd</th>\n",
       "      <th>YearBuilt</th>\n",
       "      <th>YearRemodAdd</th>\n",
       "    </tr>\n",
       "  </thead>\n",
       "  <tbody>\n",
       "    <tr>\n",
       "      <th>count</th>\n",
       "      <td>1460.000000</td>\n",
       "      <td>2919.000000</td>\n",
       "      <td>1324.000000</td>\n",
       "      <td>2918.000000</td>\n",
       "      <td>2918.000000</td>\n",
       "      <td>2919.000000</td>\n",
       "      <td>1389.000000</td>\n",
       "      <td>2918.000000</td>\n",
       "      <td>2919.000000</td>\n",
       "      <td>2919.000000</td>\n",
       "    </tr>\n",
       "    <tr>\n",
       "      <th>mean</th>\n",
       "      <td>180921.195890</td>\n",
       "      <td>1500.759849</td>\n",
       "      <td>1.485650</td>\n",
       "      <td>472.874572</td>\n",
       "      <td>1051.777587</td>\n",
       "      <td>1159.581706</td>\n",
       "      <td>1.092153</td>\n",
       "      <td>6.453050</td>\n",
       "      <td>1971.312778</td>\n",
       "      <td>1984.264474</td>\n",
       "    </tr>\n",
       "    <tr>\n",
       "      <th>std</th>\n",
       "      <td>79442.502883</td>\n",
       "      <td>506.051045</td>\n",
       "      <td>1.065052</td>\n",
       "      <td>215.394815</td>\n",
       "      <td>440.766258</td>\n",
       "      <td>392.362079</td>\n",
       "      <td>0.458827</td>\n",
       "      <td>1.567482</td>\n",
       "      <td>30.291442</td>\n",
       "      <td>20.894344</td>\n",
       "    </tr>\n",
       "    <tr>\n",
       "      <th>min</th>\n",
       "      <td>34900.000000</td>\n",
       "      <td>334.000000</td>\n",
       "      <td>0.000000</td>\n",
       "      <td>0.000000</td>\n",
       "      <td>0.000000</td>\n",
       "      <td>334.000000</td>\n",
       "      <td>0.000000</td>\n",
       "      <td>3.000000</td>\n",
       "      <td>1872.000000</td>\n",
       "      <td>1950.000000</td>\n",
       "    </tr>\n",
       "    <tr>\n",
       "      <th>25%</th>\n",
       "      <td>129975.000000</td>\n",
       "      <td>1126.000000</td>\n",
       "      <td>1.000000</td>\n",
       "      <td>320.000000</td>\n",
       "      <td>793.000000</td>\n",
       "      <td>876.000000</td>\n",
       "      <td>1.000000</td>\n",
       "      <td>5.000000</td>\n",
       "      <td>1953.500000</td>\n",
       "      <td>1965.000000</td>\n",
       "    </tr>\n",
       "    <tr>\n",
       "      <th>50%</th>\n",
       "      <td>163000.000000</td>\n",
       "      <td>1444.000000</td>\n",
       "      <td>1.000000</td>\n",
       "      <td>480.000000</td>\n",
       "      <td>989.500000</td>\n",
       "      <td>1082.000000</td>\n",
       "      <td>1.000000</td>\n",
       "      <td>6.000000</td>\n",
       "      <td>1973.000000</td>\n",
       "      <td>1993.000000</td>\n",
       "    </tr>\n",
       "    <tr>\n",
       "      <th>75%</th>\n",
       "      <td>214000.000000</td>\n",
       "      <td>1743.500000</td>\n",
       "      <td>3.000000</td>\n",
       "      <td>576.000000</td>\n",
       "      <td>1302.000000</td>\n",
       "      <td>1387.500000</td>\n",
       "      <td>1.000000</td>\n",
       "      <td>7.000000</td>\n",
       "      <td>2001.000000</td>\n",
       "      <td>2004.000000</td>\n",
       "    </tr>\n",
       "    <tr>\n",
       "      <th>max</th>\n",
       "      <td>755000.000000</td>\n",
       "      <td>5642.000000</td>\n",
       "      <td>5.000000</td>\n",
       "      <td>1488.000000</td>\n",
       "      <td>6110.000000</td>\n",
       "      <td>5095.000000</td>\n",
       "      <td>4.000000</td>\n",
       "      <td>15.000000</td>\n",
       "      <td>2010.000000</td>\n",
       "      <td>2010.000000</td>\n",
       "    </tr>\n",
       "  </tbody>\n",
       "</table>\n",
       "</div>"
      ],
      "text/plain": [
       "           SalePrice    GrLivArea   GarageCars   GarageArea  TotalBsmtSF  \\\n",
       "count    1460.000000  2919.000000  1324.000000  2918.000000  2918.000000   \n",
       "mean   180921.195890  1500.759849     1.485650   472.874572  1051.777587   \n",
       "std     79442.502883   506.051045     1.065052   215.394815   440.766258   \n",
       "min     34900.000000   334.000000     0.000000     0.000000     0.000000   \n",
       "25%    129975.000000  1126.000000     1.000000   320.000000   793.000000   \n",
       "50%    163000.000000  1444.000000     1.000000   480.000000   989.500000   \n",
       "75%    214000.000000  1743.500000     3.000000   576.000000  1302.000000   \n",
       "max    755000.000000  5642.000000     5.000000  1488.000000  6110.000000   \n",
       "\n",
       "          1stFlrSF     FullBath  TotRmsAbvGrd    YearBuilt  YearRemodAdd  \n",
       "count  2919.000000  1389.000000   2918.000000  2919.000000   2919.000000  \n",
       "mean   1159.581706     1.092153      6.453050  1971.312778   1984.264474  \n",
       "std     392.362079     0.458827      1.567482    30.291442     20.894344  \n",
       "min     334.000000     0.000000      3.000000  1872.000000   1950.000000  \n",
       "25%     876.000000     1.000000      5.000000  1953.500000   1965.000000  \n",
       "50%    1082.000000     1.000000      6.000000  1973.000000   1993.000000  \n",
       "75%    1387.500000     1.000000      7.000000  2001.000000   2004.000000  \n",
       "max    5095.000000     4.000000     15.000000  2010.000000   2010.000000  "
      ]
     },
     "execution_count": 36,
     "metadata": {},
     "output_type": "execute_result"
    }
   ],
   "source": [
    "train_df.describe()"
   ]
  },
  {
   "cell_type": "code",
   "execution_count": 37,
   "metadata": {},
   "outputs": [
    {
     "data": {
      "text/plain": [
       "(2919, 11)"
      ]
     },
     "execution_count": 37,
     "metadata": {},
     "output_type": "execute_result"
    }
   ],
   "source": [
    "train_df.shape"
   ]
  },
  {
   "cell_type": "code",
   "execution_count": 38,
   "metadata": {},
   "outputs": [
    {
     "data": {
      "text/plain": [
       "(2919, 11)"
      ]
     },
     "execution_count": 38,
     "metadata": {},
     "output_type": "execute_result"
    }
   ],
   "source": [
    "train_df.shape"
   ]
  },
  {
   "cell_type": "code",
   "execution_count": 39,
   "metadata": {},
   "outputs": [
    {
     "data": {
      "text/html": [
       "<div>\n",
       "<style>\n",
       "    .dataframe thead tr:only-child th {\n",
       "        text-align: right;\n",
       "    }\n",
       "\n",
       "    .dataframe thead th {\n",
       "        text-align: left;\n",
       "    }\n",
       "\n",
       "    .dataframe tbody tr th {\n",
       "        vertical-align: top;\n",
       "    }\n",
       "</style>\n",
       "<table border=\"1\" class=\"dataframe\">\n",
       "  <thead>\n",
       "    <tr style=\"text-align: right;\">\n",
       "      <th></th>\n",
       "      <th>SalePrice</th>\n",
       "      <th>OverallQual</th>\n",
       "      <th>GrLivArea</th>\n",
       "      <th>GarageCars</th>\n",
       "      <th>GarageArea</th>\n",
       "      <th>TotalBsmtSF</th>\n",
       "      <th>1stFlrSF</th>\n",
       "      <th>FullBath</th>\n",
       "      <th>TotRmsAbvGrd</th>\n",
       "      <th>YearBuilt</th>\n",
       "      <th>YearRemodAdd</th>\n",
       "    </tr>\n",
       "  </thead>\n",
       "  <tbody>\n",
       "    <tr>\n",
       "      <th>0</th>\n",
       "      <td>208500.0</td>\n",
       "      <td>Good</td>\n",
       "      <td>1710.0</td>\n",
       "      <td>NaN</td>\n",
       "      <td>548.0</td>\n",
       "      <td>856.0</td>\n",
       "      <td>856.0</td>\n",
       "      <td>NaN</td>\n",
       "      <td>8.0</td>\n",
       "      <td>2003.0</td>\n",
       "      <td>2003.0</td>\n",
       "    </tr>\n",
       "    <tr>\n",
       "      <th>1</th>\n",
       "      <td>181500.0</td>\n",
       "      <td>Above Average</td>\n",
       "      <td>1262.0</td>\n",
       "      <td>NaN</td>\n",
       "      <td>460.0</td>\n",
       "      <td>1262.0</td>\n",
       "      <td>1262.0</td>\n",
       "      <td>NaN</td>\n",
       "      <td>6.0</td>\n",
       "      <td>1976.0</td>\n",
       "      <td>1976.0</td>\n",
       "    </tr>\n",
       "    <tr>\n",
       "      <th>2</th>\n",
       "      <td>223500.0</td>\n",
       "      <td>Good</td>\n",
       "      <td>1786.0</td>\n",
       "      <td>NaN</td>\n",
       "      <td>608.0</td>\n",
       "      <td>920.0</td>\n",
       "      <td>920.0</td>\n",
       "      <td>NaN</td>\n",
       "      <td>6.0</td>\n",
       "      <td>2001.0</td>\n",
       "      <td>2002.0</td>\n",
       "    </tr>\n",
       "    <tr>\n",
       "      <th>3</th>\n",
       "      <td>140000.0</td>\n",
       "      <td>Good</td>\n",
       "      <td>1717.0</td>\n",
       "      <td>3.0</td>\n",
       "      <td>642.0</td>\n",
       "      <td>756.0</td>\n",
       "      <td>961.0</td>\n",
       "      <td>1.0</td>\n",
       "      <td>7.0</td>\n",
       "      <td>1915.0</td>\n",
       "      <td>1970.0</td>\n",
       "    </tr>\n",
       "    <tr>\n",
       "      <th>4</th>\n",
       "      <td>250000.0</td>\n",
       "      <td>Very Good</td>\n",
       "      <td>2198.0</td>\n",
       "      <td>3.0</td>\n",
       "      <td>836.0</td>\n",
       "      <td>1145.0</td>\n",
       "      <td>1145.0</td>\n",
       "      <td>NaN</td>\n",
       "      <td>9.0</td>\n",
       "      <td>2000.0</td>\n",
       "      <td>2000.0</td>\n",
       "    </tr>\n",
       "  </tbody>\n",
       "</table>\n",
       "</div>"
      ],
      "text/plain": [
       "   SalePrice    OverallQual  GrLivArea  GarageCars  GarageArea  TotalBsmtSF  \\\n",
       "0   208500.0           Good     1710.0         NaN       548.0        856.0   \n",
       "1   181500.0  Above Average     1262.0         NaN       460.0       1262.0   \n",
       "2   223500.0           Good     1786.0         NaN       608.0        920.0   \n",
       "3   140000.0           Good     1717.0         3.0       642.0        756.0   \n",
       "4   250000.0      Very Good     2198.0         3.0       836.0       1145.0   \n",
       "\n",
       "   1stFlrSF  FullBath  TotRmsAbvGrd  YearBuilt  YearRemodAdd  \n",
       "0     856.0       NaN           8.0     2003.0        2003.0  \n",
       "1    1262.0       NaN           6.0     1976.0        1976.0  \n",
       "2     920.0       NaN           6.0     2001.0        2002.0  \n",
       "3     961.0       1.0           7.0     1915.0        1970.0  \n",
       "4    1145.0       NaN           9.0     2000.0        2000.0  "
      ]
     },
     "execution_count": 39,
     "metadata": {},
     "output_type": "execute_result"
    }
   ],
   "source": [
    "train_df.head()"
   ]
  },
  {
   "cell_type": "code",
   "execution_count": 40,
   "metadata": {},
   "outputs": [
    {
     "name": "stderr",
     "output_type": "stream",
     "text": [
      "C:\\Users\\kkluc\\Anaconda3\\lib\\site-packages\\ipykernel_launcher.py:1: SettingWithCopyWarning: \n",
      "A value is trying to be set on a copy of a slice from a DataFrame\n",
      "\n",
      "See the caveats in the documentation: http://pandas.pydata.org/pandas-docs/stable/indexing.html#indexing-view-versus-copy\n",
      "  \"\"\"Entry point for launching an IPython kernel.\n"
     ]
    }
   ],
   "source": [
    "train_df.drop(['GarageCars','FullBath'],axis=1,inplace=True)"
   ]
  },
  {
   "cell_type": "code",
   "execution_count": 41,
   "metadata": {},
   "outputs": [
    {
     "data": {
      "text/plain": [
       "(2919, 9)"
      ]
     },
     "execution_count": 41,
     "metadata": {},
     "output_type": "execute_result"
    }
   ],
   "source": [
    "train_df.shape"
   ]
  },
  {
   "cell_type": "code",
   "execution_count": 42,
   "metadata": {},
   "outputs": [
    {
     "data": {
      "text/html": [
       "<div>\n",
       "<style>\n",
       "    .dataframe thead tr:only-child th {\n",
       "        text-align: right;\n",
       "    }\n",
       "\n",
       "    .dataframe thead th {\n",
       "        text-align: left;\n",
       "    }\n",
       "\n",
       "    .dataframe tbody tr th {\n",
       "        vertical-align: top;\n",
       "    }\n",
       "</style>\n",
       "<table border=\"1\" class=\"dataframe\">\n",
       "  <thead>\n",
       "    <tr style=\"text-align: right;\">\n",
       "      <th></th>\n",
       "      <th>SalePrice</th>\n",
       "      <th>GrLivArea</th>\n",
       "      <th>GarageArea</th>\n",
       "      <th>TotalBsmtSF</th>\n",
       "      <th>1stFlrSF</th>\n",
       "      <th>TotRmsAbvGrd</th>\n",
       "      <th>YearBuilt</th>\n",
       "      <th>YearRemodAdd</th>\n",
       "    </tr>\n",
       "  </thead>\n",
       "  <tbody>\n",
       "    <tr>\n",
       "      <th>count</th>\n",
       "      <td>1460.000000</td>\n",
       "      <td>2919.000000</td>\n",
       "      <td>2918.000000</td>\n",
       "      <td>2918.000000</td>\n",
       "      <td>2919.000000</td>\n",
       "      <td>2918.000000</td>\n",
       "      <td>2919.000000</td>\n",
       "      <td>2919.000000</td>\n",
       "    </tr>\n",
       "    <tr>\n",
       "      <th>mean</th>\n",
       "      <td>180921.195890</td>\n",
       "      <td>1500.759849</td>\n",
       "      <td>472.874572</td>\n",
       "      <td>1051.777587</td>\n",
       "      <td>1159.581706</td>\n",
       "      <td>6.453050</td>\n",
       "      <td>1971.312778</td>\n",
       "      <td>1984.264474</td>\n",
       "    </tr>\n",
       "    <tr>\n",
       "      <th>std</th>\n",
       "      <td>79442.502883</td>\n",
       "      <td>506.051045</td>\n",
       "      <td>215.394815</td>\n",
       "      <td>440.766258</td>\n",
       "      <td>392.362079</td>\n",
       "      <td>1.567482</td>\n",
       "      <td>30.291442</td>\n",
       "      <td>20.894344</td>\n",
       "    </tr>\n",
       "    <tr>\n",
       "      <th>min</th>\n",
       "      <td>34900.000000</td>\n",
       "      <td>334.000000</td>\n",
       "      <td>0.000000</td>\n",
       "      <td>0.000000</td>\n",
       "      <td>334.000000</td>\n",
       "      <td>3.000000</td>\n",
       "      <td>1872.000000</td>\n",
       "      <td>1950.000000</td>\n",
       "    </tr>\n",
       "    <tr>\n",
       "      <th>25%</th>\n",
       "      <td>129975.000000</td>\n",
       "      <td>1126.000000</td>\n",
       "      <td>320.000000</td>\n",
       "      <td>793.000000</td>\n",
       "      <td>876.000000</td>\n",
       "      <td>5.000000</td>\n",
       "      <td>1953.500000</td>\n",
       "      <td>1965.000000</td>\n",
       "    </tr>\n",
       "    <tr>\n",
       "      <th>50%</th>\n",
       "      <td>163000.000000</td>\n",
       "      <td>1444.000000</td>\n",
       "      <td>480.000000</td>\n",
       "      <td>989.500000</td>\n",
       "      <td>1082.000000</td>\n",
       "      <td>6.000000</td>\n",
       "      <td>1973.000000</td>\n",
       "      <td>1993.000000</td>\n",
       "    </tr>\n",
       "    <tr>\n",
       "      <th>75%</th>\n",
       "      <td>214000.000000</td>\n",
       "      <td>1743.500000</td>\n",
       "      <td>576.000000</td>\n",
       "      <td>1302.000000</td>\n",
       "      <td>1387.500000</td>\n",
       "      <td>7.000000</td>\n",
       "      <td>2001.000000</td>\n",
       "      <td>2004.000000</td>\n",
       "    </tr>\n",
       "    <tr>\n",
       "      <th>max</th>\n",
       "      <td>755000.000000</td>\n",
       "      <td>5642.000000</td>\n",
       "      <td>1488.000000</td>\n",
       "      <td>6110.000000</td>\n",
       "      <td>5095.000000</td>\n",
       "      <td>15.000000</td>\n",
       "      <td>2010.000000</td>\n",
       "      <td>2010.000000</td>\n",
       "    </tr>\n",
       "  </tbody>\n",
       "</table>\n",
       "</div>"
      ],
      "text/plain": [
       "           SalePrice    GrLivArea   GarageArea  TotalBsmtSF     1stFlrSF  \\\n",
       "count    1460.000000  2919.000000  2918.000000  2918.000000  2919.000000   \n",
       "mean   180921.195890  1500.759849   472.874572  1051.777587  1159.581706   \n",
       "std     79442.502883   506.051045   215.394815   440.766258   392.362079   \n",
       "min     34900.000000   334.000000     0.000000     0.000000   334.000000   \n",
       "25%    129975.000000  1126.000000   320.000000   793.000000   876.000000   \n",
       "50%    163000.000000  1444.000000   480.000000   989.500000  1082.000000   \n",
       "75%    214000.000000  1743.500000   576.000000  1302.000000  1387.500000   \n",
       "max    755000.000000  5642.000000  1488.000000  6110.000000  5095.000000   \n",
       "\n",
       "       TotRmsAbvGrd    YearBuilt  YearRemodAdd  \n",
       "count   2918.000000  2919.000000   2919.000000  \n",
       "mean       6.453050  1971.312778   1984.264474  \n",
       "std        1.567482    30.291442     20.894344  \n",
       "min        3.000000  1872.000000   1950.000000  \n",
       "25%        5.000000  1953.500000   1965.000000  \n",
       "50%        6.000000  1973.000000   1993.000000  \n",
       "75%        7.000000  2001.000000   2004.000000  \n",
       "max       15.000000  2010.000000   2010.000000  "
      ]
     },
     "execution_count": 42,
     "metadata": {},
     "output_type": "execute_result"
    }
   ],
   "source": [
    "train_df.describe()"
   ]
  },
  {
   "cell_type": "code",
   "execution_count": 43,
   "metadata": {
    "collapsed": true
   },
   "outputs": [],
   "source": [
    "train_df=pd.get_dummies(columns=['OverallQual'],data=train_df,prefix='OverallQual_')"
   ]
  },
  {
   "cell_type": "code",
   "execution_count": 44,
   "metadata": {
    "collapsed": true
   },
   "outputs": [],
   "source": [
    "train_df=pd.get_dummies(columns=['TotRmsAbvGrd'],data=train_df,prefix='TotRmsAbvGrd_')"
   ]
  },
  {
   "cell_type": "code",
   "execution_count": 45,
   "metadata": {},
   "outputs": [
    {
     "data": {
      "text/plain": [
       "(2919, 30)"
      ]
     },
     "execution_count": 45,
     "metadata": {},
     "output_type": "execute_result"
    }
   ],
   "source": [
    "train_df.shape"
   ]
  },
  {
   "cell_type": "code",
   "execution_count": 46,
   "metadata": {},
   "outputs": [
    {
     "data": {
      "text/plain": [
       "Index(['SalePrice', 'GrLivArea', 'GarageArea', 'TotalBsmtSF', '1stFlrSF',\n",
       "       'YearBuilt', 'YearRemodAdd', 'OverallQual__Above Average',\n",
       "       'OverallQual__Average', 'OverallQual__Below Average',\n",
       "       'OverallQual__Excellent', 'OverallQual__Fair', 'OverallQual__Good',\n",
       "       'OverallQual__Poor', 'OverallQual__Very Excellent',\n",
       "       'OverallQual__Very Good', 'OverallQual__Very Poor', 'TotRmsAbvGrd__3.0',\n",
       "       'TotRmsAbvGrd__4.0', 'TotRmsAbvGrd__5.0', 'TotRmsAbvGrd__6.0',\n",
       "       'TotRmsAbvGrd__7.0', 'TotRmsAbvGrd__8.0', 'TotRmsAbvGrd__9.0',\n",
       "       'TotRmsAbvGrd__10.0', 'TotRmsAbvGrd__11.0', 'TotRmsAbvGrd__12.0',\n",
       "       'TotRmsAbvGrd__13.0', 'TotRmsAbvGrd__14.0', 'TotRmsAbvGrd__15.0'],\n",
       "      dtype='object')"
      ]
     },
     "execution_count": 46,
     "metadata": {},
     "output_type": "execute_result"
    }
   ],
   "source": [
    "train_df.columns"
   ]
  },
  {
   "cell_type": "code",
   "execution_count": 47,
   "metadata": {},
   "outputs": [
    {
     "data": {
      "text/plain": [
       "(1460, 30)"
      ]
     },
     "execution_count": 47,
     "metadata": {},
     "output_type": "execute_result"
    }
   ],
   "source": [
    "train_df1=train_df[train_df.SalePrice>=0]\n",
    "train_df1.shape"
   ]
  },
  {
   "cell_type": "markdown",
   "metadata": {},
   "source": [
    "# 多元线性回归模型"
   ]
  },
  {
   "cell_type": "code",
   "execution_count": 48,
   "metadata": {
    "collapsed": true
   },
   "outputs": [],
   "source": [
    "from sklearn.linear_model import LinearRegression"
   ]
  },
  {
   "cell_type": "code",
   "execution_count": 49,
   "metadata": {
    "collapsed": true
   },
   "outputs": [],
   "source": [
    "x=train_df1.drop(['SalePrice'],axis=1)\n",
    "y=train_df1['SalePrice']\n"
   ]
  },
  {
   "cell_type": "code",
   "execution_count": 50,
   "metadata": {
    "collapsed": true
   },
   "outputs": [],
   "source": [
    "line=LinearRegression()\n"
   ]
  },
  {
   "cell_type": "code",
   "execution_count": 51,
   "metadata": {},
   "outputs": [
    {
     "data": {
      "text/plain": [
       "LinearRegression(copy_X=True, fit_intercept=True, n_jobs=1, normalize=False)"
      ]
     },
     "execution_count": 51,
     "metadata": {},
     "output_type": "execute_result"
    }
   ],
   "source": [
    "line.fit(x,y)"
   ]
  },
  {
   "cell_type": "code",
   "execution_count": 52,
   "metadata": {
    "collapsed": true
   },
   "outputs": [],
   "source": [
    "test_df1=train_df.iloc[1460:,:]"
   ]
  },
  {
   "cell_type": "code",
   "execution_count": 53,
   "metadata": {},
   "outputs": [
    {
     "data": {
      "text/html": [
       "<div>\n",
       "<style>\n",
       "    .dataframe thead tr:only-child th {\n",
       "        text-align: right;\n",
       "    }\n",
       "\n",
       "    .dataframe thead th {\n",
       "        text-align: left;\n",
       "    }\n",
       "\n",
       "    .dataframe tbody tr th {\n",
       "        vertical-align: top;\n",
       "    }\n",
       "</style>\n",
       "<table border=\"1\" class=\"dataframe\">\n",
       "  <thead>\n",
       "    <tr style=\"text-align: right;\">\n",
       "      <th></th>\n",
       "      <th>SalePrice</th>\n",
       "      <th>GrLivArea</th>\n",
       "      <th>GarageArea</th>\n",
       "      <th>TotalBsmtSF</th>\n",
       "      <th>1stFlrSF</th>\n",
       "      <th>YearBuilt</th>\n",
       "      <th>YearRemodAdd</th>\n",
       "      <th>OverallQual__Above Average</th>\n",
       "      <th>OverallQual__Average</th>\n",
       "      <th>OverallQual__Below Average</th>\n",
       "      <th>...</th>\n",
       "      <th>TotRmsAbvGrd__6.0</th>\n",
       "      <th>TotRmsAbvGrd__7.0</th>\n",
       "      <th>TotRmsAbvGrd__8.0</th>\n",
       "      <th>TotRmsAbvGrd__9.0</th>\n",
       "      <th>TotRmsAbvGrd__10.0</th>\n",
       "      <th>TotRmsAbvGrd__11.0</th>\n",
       "      <th>TotRmsAbvGrd__12.0</th>\n",
       "      <th>TotRmsAbvGrd__13.0</th>\n",
       "      <th>TotRmsAbvGrd__14.0</th>\n",
       "      <th>TotRmsAbvGrd__15.0</th>\n",
       "    </tr>\n",
       "  </thead>\n",
       "  <tbody>\n",
       "    <tr>\n",
       "      <th>0</th>\n",
       "      <td>NaN</td>\n",
       "      <td>896.0</td>\n",
       "      <td>730.0</td>\n",
       "      <td>882.0</td>\n",
       "      <td>896.0</td>\n",
       "      <td>1961.0</td>\n",
       "      <td>1961.0</td>\n",
       "      <td>0</td>\n",
       "      <td>1</td>\n",
       "      <td>0</td>\n",
       "      <td>...</td>\n",
       "      <td>0</td>\n",
       "      <td>0</td>\n",
       "      <td>0</td>\n",
       "      <td>0</td>\n",
       "      <td>0</td>\n",
       "      <td>0</td>\n",
       "      <td>0</td>\n",
       "      <td>0</td>\n",
       "      <td>0</td>\n",
       "      <td>0</td>\n",
       "    </tr>\n",
       "    <tr>\n",
       "      <th>1</th>\n",
       "      <td>NaN</td>\n",
       "      <td>1329.0</td>\n",
       "      <td>312.0</td>\n",
       "      <td>1329.0</td>\n",
       "      <td>1329.0</td>\n",
       "      <td>1958.0</td>\n",
       "      <td>1958.0</td>\n",
       "      <td>1</td>\n",
       "      <td>0</td>\n",
       "      <td>0</td>\n",
       "      <td>...</td>\n",
       "      <td>1</td>\n",
       "      <td>0</td>\n",
       "      <td>0</td>\n",
       "      <td>0</td>\n",
       "      <td>0</td>\n",
       "      <td>0</td>\n",
       "      <td>0</td>\n",
       "      <td>0</td>\n",
       "      <td>0</td>\n",
       "      <td>0</td>\n",
       "    </tr>\n",
       "    <tr>\n",
       "      <th>2</th>\n",
       "      <td>NaN</td>\n",
       "      <td>1629.0</td>\n",
       "      <td>482.0</td>\n",
       "      <td>928.0</td>\n",
       "      <td>928.0</td>\n",
       "      <td>1997.0</td>\n",
       "      <td>1998.0</td>\n",
       "      <td>0</td>\n",
       "      <td>1</td>\n",
       "      <td>0</td>\n",
       "      <td>...</td>\n",
       "      <td>1</td>\n",
       "      <td>0</td>\n",
       "      <td>0</td>\n",
       "      <td>0</td>\n",
       "      <td>0</td>\n",
       "      <td>0</td>\n",
       "      <td>0</td>\n",
       "      <td>0</td>\n",
       "      <td>0</td>\n",
       "      <td>0</td>\n",
       "    </tr>\n",
       "    <tr>\n",
       "      <th>3</th>\n",
       "      <td>NaN</td>\n",
       "      <td>1604.0</td>\n",
       "      <td>470.0</td>\n",
       "      <td>926.0</td>\n",
       "      <td>926.0</td>\n",
       "      <td>1998.0</td>\n",
       "      <td>1998.0</td>\n",
       "      <td>1</td>\n",
       "      <td>0</td>\n",
       "      <td>0</td>\n",
       "      <td>...</td>\n",
       "      <td>0</td>\n",
       "      <td>1</td>\n",
       "      <td>0</td>\n",
       "      <td>0</td>\n",
       "      <td>0</td>\n",
       "      <td>0</td>\n",
       "      <td>0</td>\n",
       "      <td>0</td>\n",
       "      <td>0</td>\n",
       "      <td>0</td>\n",
       "    </tr>\n",
       "    <tr>\n",
       "      <th>4</th>\n",
       "      <td>NaN</td>\n",
       "      <td>1280.0</td>\n",
       "      <td>506.0</td>\n",
       "      <td>1280.0</td>\n",
       "      <td>1280.0</td>\n",
       "      <td>1992.0</td>\n",
       "      <td>1992.0</td>\n",
       "      <td>0</td>\n",
       "      <td>0</td>\n",
       "      <td>0</td>\n",
       "      <td>...</td>\n",
       "      <td>0</td>\n",
       "      <td>0</td>\n",
       "      <td>0</td>\n",
       "      <td>0</td>\n",
       "      <td>0</td>\n",
       "      <td>0</td>\n",
       "      <td>0</td>\n",
       "      <td>0</td>\n",
       "      <td>0</td>\n",
       "      <td>0</td>\n",
       "    </tr>\n",
       "  </tbody>\n",
       "</table>\n",
       "<p>5 rows × 30 columns</p>\n",
       "</div>"
      ],
      "text/plain": [
       "   SalePrice  GrLivArea  GarageArea  TotalBsmtSF  1stFlrSF  YearBuilt  \\\n",
       "0        NaN      896.0       730.0        882.0     896.0     1961.0   \n",
       "1        NaN     1329.0       312.0       1329.0    1329.0     1958.0   \n",
       "2        NaN     1629.0       482.0        928.0     928.0     1997.0   \n",
       "3        NaN     1604.0       470.0        926.0     926.0     1998.0   \n",
       "4        NaN     1280.0       506.0       1280.0    1280.0     1992.0   \n",
       "\n",
       "   YearRemodAdd  OverallQual__Above Average  OverallQual__Average  \\\n",
       "0        1961.0                           0                     1   \n",
       "1        1958.0                           1                     0   \n",
       "2        1998.0                           0                     1   \n",
       "3        1998.0                           1                     0   \n",
       "4        1992.0                           0                     0   \n",
       "\n",
       "   OverallQual__Below Average         ...          TotRmsAbvGrd__6.0  \\\n",
       "0                           0         ...                          0   \n",
       "1                           0         ...                          1   \n",
       "2                           0         ...                          1   \n",
       "3                           0         ...                          0   \n",
       "4                           0         ...                          0   \n",
       "\n",
       "   TotRmsAbvGrd__7.0  TotRmsAbvGrd__8.0  TotRmsAbvGrd__9.0  \\\n",
       "0                  0                  0                  0   \n",
       "1                  0                  0                  0   \n",
       "2                  0                  0                  0   \n",
       "3                  1                  0                  0   \n",
       "4                  0                  0                  0   \n",
       "\n",
       "   TotRmsAbvGrd__10.0  TotRmsAbvGrd__11.0  TotRmsAbvGrd__12.0  \\\n",
       "0                   0                   0                   0   \n",
       "1                   0                   0                   0   \n",
       "2                   0                   0                   0   \n",
       "3                   0                   0                   0   \n",
       "4                   0                   0                   0   \n",
       "\n",
       "   TotRmsAbvGrd__13.0  TotRmsAbvGrd__14.0  TotRmsAbvGrd__15.0  \n",
       "0                   0                   0                   0  \n",
       "1                   0                   0                   0  \n",
       "2                   0                   0                   0  \n",
       "3                   0                   0                   0  \n",
       "4                   0                   0                   0  \n",
       "\n",
       "[5 rows x 30 columns]"
      ]
     },
     "execution_count": 53,
     "metadata": {},
     "output_type": "execute_result"
    }
   ],
   "source": [
    "test_df1.head()"
   ]
  },
  {
   "cell_type": "code",
   "execution_count": 54,
   "metadata": {
    "collapsed": true
   },
   "outputs": [],
   "source": [
    "test_x=test_df1.drop(['SalePrice'],axis=1)"
   ]
  },
  {
   "cell_type": "code",
   "execution_count": 55,
   "metadata": {
    "collapsed": true
   },
   "outputs": [],
   "source": [
    "test_x['GarageArea'].fillna(test_x.GarageArea.mean(),inplace=True)\n",
    "test_x['TotalBsmtSF'].fillna(test_x.TotalBsmtSF.median(),inplace=True)\n"
   ]
  },
  {
   "cell_type": "code",
   "execution_count": 56,
   "metadata": {
    "collapsed": true
   },
   "outputs": [],
   "source": [
    "test_y=np.round(line.predict(test_x),0)\n"
   ]
  },
  {
   "cell_type": "code",
   "execution_count": 57,
   "metadata": {},
   "outputs": [
    {
     "data": {
      "text/plain": [
       "array([ 126513.,  146052.,  175133., ...,  151595.,  119556.,  229186.])"
      ]
     },
     "execution_count": 57,
     "metadata": {},
     "output_type": "execute_result"
    }
   ],
   "source": [
    "test_y"
   ]
  },
  {
   "cell_type": "code",
   "execution_count": 58,
   "metadata": {},
   "outputs": [
    {
     "data": {
      "text/plain": [
       "0.80827016548912711"
      ]
     },
     "execution_count": 58,
     "metadata": {},
     "output_type": "execute_result"
    }
   ],
   "source": [
    "line.score(x,y)"
   ]
  },
  {
   "cell_type": "code",
   "execution_count": 59,
   "metadata": {
    "collapsed": true
   },
   "outputs": [],
   "source": [
    "ID=test_df.Id\n",
    "\n",
    "result=pd.DataFrame({'id':ID,'result':test_y})"
   ]
  },
  {
   "cell_type": "code",
   "execution_count": 60,
   "metadata": {
    "collapsed": true
   },
   "outputs": [],
   "source": [
    "result.set_index('id',inplace=True)"
   ]
  },
  {
   "cell_type": "code",
   "execution_count": 61,
   "metadata": {
    "collapsed": true
   },
   "outputs": [],
   "source": [
    "result.to_csv(r'D:\\Python\\Price Forecast\\result.csv')"
   ]
  }
 ],
 "metadata": {
  "kernelspec": {
   "display_name": "Python 3",
   "language": "python",
   "name": "python3"
  },
  "language_info": {
   "codemirror_mode": {
    "name": "ipython",
    "version": 3
   },
   "file_extension": ".py",
   "mimetype": "text/x-python",
   "name": "python",
   "nbconvert_exporter": "python",
   "pygments_lexer": "ipython3",
   "version": "3.6.1"
  }
 },
 "nbformat": 4,
 "nbformat_minor": 2
}
